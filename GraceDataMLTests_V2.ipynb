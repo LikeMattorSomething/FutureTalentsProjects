{
  "nbformat": 4,
  "nbformat_minor": 0,
  "metadata": {
    "colab": {
      "provenance": [],
      "mount_file_id": "1bIpNe2UTBJTxZH6eHtBhSBaKm01nxeNW",
      "authorship_tag": "ABX9TyN/BpXiwaOuQE7MYlczMfU7",
      "include_colab_link": true
    },
    "kernelspec": {
      "name": "python3",
      "display_name": "Python 3"
    },
    "language_info": {
      "name": "python"
    }
  },
  "cells": [
    {
      "cell_type": "markdown",
      "metadata": {
        "id": "view-in-github",
        "colab_type": "text"
      },
      "source": [
        "<a href=\"https://colab.research.google.com/github/LikeMattorSomething/FutureTalentsProjects/blob/main/GraceDataMLTests_V2.ipynb\" target=\"_parent\"><img src=\"https://colab.research.google.com/assets/colab-badge.svg\" alt=\"Open In Colab\"/></a>"
      ]
    },
    {
      "cell_type": "markdown",
      "source": [
        "# Data PreProcessing"
      ],
      "metadata": {
        "id": "kKRKSE0fl2GX"
      }
    },
    {
      "cell_type": "code",
      "execution_count": 2,
      "metadata": {
        "id": "JrzTOadsluvz"
      },
      "outputs": [],
      "source": [
        "import pandas as pd\n",
        "import numpy as np\n",
        "from sklearn.model_selection import train_test_split\n",
        "from sklearn.neighbors import KNeighborsClassifier\n",
        "\n",
        "\n",
        "\n",
        "GraceData = pd.read_csv(\"/content/drive/MyDrive/Future Talents Data/Grace_All years combined 08-07-2025.csv\")\n",
        "\n",
        "GraceData.info\n",
        "\n",
        "GraceData = GraceData[GraceData['Diabetes'] != '#NULL!'] # Removed bad data with no diabetes\n",
        "GraceData = GraceData[GraceData['Diabetes'] != '-1']\n",
        "\n",
        "GraceData['Country'] = pd.factorize(GraceData['Country'])[0] + 1 # Convert 'Country' column to numerical\n",
        "\n",
        "\n",
        "\n",
        "X = GraceData.drop(columns=[\"Diabetes\",\"seriali\"])\n",
        "y = GraceData[\"Diabetes\"]\n",
        "\n",
        "X_train, X_test, y_train, y_test = train_test_split(X, y, test_size=0.2, random_state=0)"
      ]
    },
    {
      "cell_type": "markdown",
      "source": [
        "# Models"
      ],
      "metadata": {
        "id": "czISs-oKmAVG"
      }
    },
    {
      "cell_type": "code",
      "source": [
        "from sklearn.preprocessing import normalize, StandardScaler\n",
        "from sklearn.model_selection import GridSearchCV\n",
        "from sklearn.ensemble import RandomForestClassifier\n",
        "from sklearn.tree import DecisionTreeClassifier\n",
        "from sklearn.neighbors import KNeighborsClassifier\n",
        "\n",
        "\n",
        "# Normalize the data using StandardScaler\n",
        "scaler = StandardScaler()\n",
        "X_train_scaled = scaler.fit_transform(X_train)\n",
        "X_test_scaled = scaler.transform(X_test)\n",
        "\n",
        "ModelSelection = int(input(\"1 nearest neighbour, 2 decision tree, 3 random forest\"))\n",
        "\n",
        "if ModelSelection == 1:\n",
        "  parameters = {\"n_neighbors\":range(1,50)}\n",
        "  modelType = KNeighborsClassifier()\n",
        "elif ModelSelection == 2:\n",
        "  parameters = {\"max_depth\":range(1,30),'max_features': range(1,5)} # Parameters for decision tree\n",
        "  modelType = DecisionTreeClassifier()\n",
        "elif ModelSelection == 3:\n",
        "  parameters = {\"n_estimators\": (19,20),\"max_depth\": (71,70)} # Parameters for random forest (estimators 181)\n",
        "  modelType = RandomForestClassifier()\n",
        "else:\n",
        "  print(\"Invalid input\")\n",
        "\n",
        "\n",
        "\n",
        "GSD = GridSearchCV(modelType,parameters)\n",
        "\n",
        "GSD.fit(X_train_scaled,y_train) # Fit on scaled data\n",
        "\n",
        "print(GSD.best_estimator_.score(X_test_scaled,y_test)) # Score on scaled data\n",
        "print(GSD.best_params_)\n"
      ],
      "metadata": {
        "colab": {
          "base_uri": "https://localhost:8080/"
        },
        "id": "bkp1SyHSmC74",
        "outputId": "31d12012-b255-4f1c-a42d-018952f8e432"
      },
      "execution_count": 16,
      "outputs": [
        {
          "output_type": "stream",
          "name": "stdout",
          "text": [
            "1 nearest neighbour, 2 decision tree, 3 random forest3\n",
            "0.9551569506726457\n",
            "{'max_depth': 71, 'n_estimators': 19}\n"
          ]
        }
      ]
    },
    {
      "cell_type": "markdown",
      "source": [
        "# Confusion Matrix"
      ],
      "metadata": {
        "id": "XNdOVTsZmPJ_"
      }
    },
    {
      "cell_type": "code",
      "source": [
        "import matplotlib.pyplot as plt\n",
        "from sklearn.metrics import confusion_matrix\n",
        "from sklearn.metrics import ConfusionMatrixDisplay\n",
        "\n",
        "PredictedResults = GSD.predict(X_test_scaled) # Predict on scaled data\n",
        "ActualResults = y_test\n",
        "\n",
        "cm = confusion_matrix(ActualResults, PredictedResults)\n",
        "disp = ConfusionMatrixDisplay.from_estimator(GSD, X_test_scaled, y_test, normalize=\"true\") # Display using scaled data\n",
        "\n",
        "plt.title(\"Confusion Matrix\")\n",
        "plt.show()\n",
        "\n",
        "myClassifiers = pd.Series(GSD.best_estimator_.feature_importances_, index=X_train.columns)\n",
        "\n",
        "DietImportance = myClassifiers[[\"Energykcal\", \"FoodEkcal\", \"Proteing\", \"Fatg\", \"Saturatedfattyacidsg\", \"Carbohydrateg\", \"Totalsugarsg\", \"Starchg\", \"FreeSugarsg\", \"AOACFibreg\", \"FatpctotE\", \"FatpcfoodE\", \"CHOpcfoodE\", \"CHOpctotE\", \"SFApcfoodE\", \"SFApctotE\", \"TotalsugarspcfoodE\", \"TotalsugarspctotE\", \"FreeSugarspcfoodE\", \"FreeSugarspctotE\", \"WHOLEMEALBREAD\", \"SOFTDRINKSLOWCALORIE\", \"SOFTDRINKSNOTLOWCALORIE\", \"SUGARCONFECTIONERY\", \"FRUIT\", \"NUTSANDSEEDS\", \"PASTARICEANDOTHERCEREALS\", \"SALADANDOTHERRAWVEGETABLES\", \"WHITEBREAD\", \"Beansg\", \"totalfruit\", \"totalveg\", \"totalfruitandveg\", \"Fruitvegportions\", \"Totfruitvegportions\", \"Achieve5\", \"ProcessedRedMeatg\", \"totalredmeat\", \"totalmeat\"]]\n",
        "DietImportance = DietImportance.sort_values(ascending=False)\n",
        "print(DietImportance)\n",
        "\n",
        "# myClassifiers = myClassifiers.sort_values(ascending=False)\n",
        "# print(myClassifiers.head(15))"
      ],
      "metadata": {
        "colab": {
          "base_uri": "https://localhost:8080/",
          "height": 1000
        },
        "id": "RDgzxfVTmvGA",
        "outputId": "048bc5fd-d9ab-48ca-8521-94c77783ba56"
      },
      "execution_count": 17,
      "outputs": [
        {
          "output_type": "display_data",
          "data": {
            "text/plain": [
              "<Figure size 640x480 with 2 Axes>"
            ],
            "image/png": "[encoded data removed]"
          },
          "metadata": {}
        },
        {
          "output_type": "stream",
          "name": "stdout",
          "text": [
            "FreeSugarsg                   0.032536\n",
            "FreeSugarspcfoodE             0.023248\n",
            "FreeSugarspctotE              0.021911\n",
            "WHITEBREAD                    0.020287\n",
            "totalfruit                    0.019866\n",
            "TotalsugarspctotE             0.018574\n",
            "TotalsugarspcfoodE            0.017759\n",
            "CHOpctotE                     0.016594\n",
            "Totalsugarsg                  0.015633\n",
            "Proteing                      0.015133\n",
            "FoodEkcal                     0.015016\n",
            "Energykcal                    0.014901\n",
            "Saturatedfattyacidsg          0.014840\n",
            "Fruitvegportions              0.014733\n",
            "SFApcfoodE                    0.014579\n",
            "FatpctotE                     0.014208\n",
            "Fatg                          0.014161\n",
            "Totfruitvegportions           0.013839\n",
            "FatpcfoodE                    0.013358\n",
            "AOACFibreg                    0.013356\n",
            "totalmeat                     0.013204\n",
            "CHOpcfoodE                    0.012811\n",
            "totalveg                      0.012711\n",
            "totalredmeat                  0.012326\n",
            "Starchg                       0.012161\n",
            "PASTARICEANDOTHERCEREALS      0.011546\n",
            "SFApctotE                     0.011063\n",
            "totalfruitandveg              0.010774\n",
            "SALADANDOTHERRAWVEGETABLES    0.010767\n",
            "ProcessedRedMeatg             0.010710\n",
            "SOFTDRINKSLOWCALORIE          0.010404\n",
            "FRUIT                         0.009690\n",
            "Carbohydrateg                 0.008787\n",
            "Beansg                        0.008604\n",
            "WHOLEMEALBREAD                0.006348\n",
            "NUTSANDSEEDS                  0.005548\n",
            "SOFTDRINKSNOTLOWCALORIE       0.004904\n",
            "SUGARCONFECTIONERY            0.002914\n",
            "Achieve5                      0.001019\n",
            "dtype: float64\n"
          ]
        }
      ]
    }
  ]
}