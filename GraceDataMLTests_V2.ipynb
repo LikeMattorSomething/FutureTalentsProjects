{
  "cells": [
    {
      "cell_type": "markdown",
      "metadata": {
        "id": "view-in-github",
        "colab_type": "text"
      },
      "source": [
        "<a href=\"https://colab.research.google.com/github/LikeMattorSomething/FutureTalentsProjects/blob/main/GraceDataMLTests_V2.ipynb\" target=\"_parent\"><img src=\"https://colab.research.google.com/assets/colab-badge.svg\" alt=\"Open In Colab\"/></a>"
      ]
    },
    {
      "cell_type": "markdown",
      "metadata": {
        "id": "kKRKSE0fl2GX"
      },
      "source": [
        "# Data PreProcessing"
      ]
    },
    {
      "cell_type": "code",
      "execution_count": 2,
      "metadata": {
        "colab": {
          "base_uri": "https://localhost:8080/"
        },
        "id": "JrzTOadsluvz",
        "outputId": "e264596e-37f0-47e9-e52c-e1134dcf7ebc"
      },
      "outputs": [
        {
          "output_type": "stream",
          "name": "stdout",
          "text": [
            "(8418, 51)\n",
            "(8418,)\n"
          ]
        }
      ],
      "source": [
        "import pandas as pd\n",
        "import numpy as np\n",
        "from sklearn.model_selection import train_test_split\n",
        "from sklearn.neighbors import KNeighborsClassifier\n",
        "\n",
        "\n",
        "GraceData = pd.read_csv(\"/content/drive/MyDrive/Future Talents Data/Grace_All years combined 08-07-2025.csv\")\n",
        "\n",
        "GraceData.info\n",
        "\n",
        "GraceData = GraceData[GraceData['Diabetes'] != '#NULL!'] # Removed bad data with no diabetes\n",
        "GraceData = GraceData[GraceData['Diabetes'] != '-1']\n",
        "\n",
        "DiabeticSamples = GraceData[GraceData[\"Diabetes\"] == '2']\n",
        "\n",
        "GraceData['Country'] = pd.factorize(GraceData['Country'])[0] + 1 # Converts 'Country' column to numerical\n",
        "\n",
        "X = GraceData.drop(columns=[\"Diabetes\",\"seriali\"])\n",
        "y = GraceData[\"Diabetes\"]\n",
        "\n",
        "\n",
        "# OVERSAMPLING\n",
        "\n",
        "from imblearn.over_sampling import RandomOverSampler\n",
        "\n",
        "ros = RandomOverSampler(random_state=0)\n",
        "X, y = ros.fit_resample(X, y)\n",
        "\n",
        "\n",
        "\n",
        "print(X.shape)\n",
        "print(y.shape)\n",
        "\n",
        "X_train, X_test, y_train, y_test = train_test_split(X, y, test_size=0.2, random_state=0)"
      ]
    },
    {
      "cell_type": "markdown",
      "metadata": {
        "id": "czISs-oKmAVG"
      },
      "source": [
        "# Models"
      ]
    },
    {
      "cell_type": "code",
      "execution_count": 11,
      "metadata": {
        "colab": {
          "base_uri": "https://localhost:8080/"
        },
        "id": "bkp1SyHSmC74",
        "outputId": "5071ec1c-c64c-4573-b5da-b571680d21cc"
      },
      "outputs": [
        {
          "name": "stdout",
          "output_type": "stream",
          "text": [
            "1 nearest neighbour, 2 decision tree, 3 random forest: 3\n",
            "1 Default Parameters, 2 Grid Search: 1\n"
          ]
        },
        {
          "output_type": "stream",
          "name": "stderr",
          "text": [
            "[Parallel(n_jobs=1)]: Done  49 tasks      | elapsed:    1.4s\n",
            "[Parallel(n_jobs=1)]: Done 100 out of 100 | elapsed:    2.8s finished\n",
            "[Parallel(n_jobs=1)]: Done  49 tasks      | elapsed:    0.0s\n",
            "[Parallel(n_jobs=1)]: Done 100 out of 100 | elapsed:    0.0s finished\n",
            "[Parallel(n_jobs=1)]: Done  49 tasks      | elapsed:    1.0s\n",
            "[Parallel(n_jobs=1)]: Done 100 out of 100 | elapsed:    2.0s finished\n",
            "[Parallel(n_jobs=1)]: Done  49 tasks      | elapsed:    0.0s\n",
            "[Parallel(n_jobs=1)]: Done 100 out of 100 | elapsed:    0.0s finished\n",
            "[Parallel(n_jobs=1)]: Done  49 tasks      | elapsed:    1.0s\n",
            "[Parallel(n_jobs=1)]: Done 100 out of 100 | elapsed:    2.0s finished\n",
            "[Parallel(n_jobs=1)]: Done  49 tasks      | elapsed:    0.0s\n",
            "[Parallel(n_jobs=1)]: Done 100 out of 100 | elapsed:    0.0s finished\n",
            "[Parallel(n_jobs=1)]: Done  49 tasks      | elapsed:    1.0s\n",
            "[Parallel(n_jobs=1)]: Done 100 out of 100 | elapsed:    2.0s finished\n",
            "[Parallel(n_jobs=1)]: Done  49 tasks      | elapsed:    0.0s\n",
            "[Parallel(n_jobs=1)]: Done 100 out of 100 | elapsed:    0.0s finished\n",
            "[Parallel(n_jobs=1)]: Done  49 tasks      | elapsed:    1.0s\n",
            "[Parallel(n_jobs=1)]: Done 100 out of 100 | elapsed:    2.0s finished\n",
            "[Parallel(n_jobs=1)]: Done  49 tasks      | elapsed:    0.0s\n",
            "[Parallel(n_jobs=1)]: Done 100 out of 100 | elapsed:    0.0s finished\n",
            "[Parallel(n_jobs=1)]: Done  49 tasks      | elapsed:    1.3s\n"
          ]
        },
        {
          "output_type": "stream",
          "name": "stdout",
          "text": [
            "Accuracy\n",
            "0.9934679334916865\n",
            "F1 score\n",
            "0.9934675441965211\n",
            "{}\n"
          ]
        },
        {
          "output_type": "stream",
          "name": "stderr",
          "text": [
            "[Parallel(n_jobs=1)]: Done 100 out of 100 | elapsed:    3.1s finished\n",
            "[Parallel(n_jobs=1)]: Done  49 tasks      | elapsed:    0.0s\n",
            "[Parallel(n_jobs=1)]: Done 100 out of 100 | elapsed:    0.0s finished\n",
            "[Parallel(n_jobs=1)]: Done  49 tasks      | elapsed:    0.0s\n",
            "[Parallel(n_jobs=1)]: Done 100 out of 100 | elapsed:    0.0s finished\n"
          ]
        }
      ],
      "source": [
        "from sklearn.preprocessing import normalize, StandardScaler\n",
        "from sklearn.model_selection import GridSearchCV\n",
        "from sklearn.ensemble import RandomForestClassifier\n",
        "from sklearn.tree import DecisionTreeClassifier\n",
        "from sklearn.neighbors import KNeighborsClassifier\n",
        "from sklearn.metrics import f1_score\n",
        "\n",
        "\n",
        "# Normalize the data using StandardScaler\n",
        "scaler = StandardScaler()\n",
        "X_train_scaled = scaler.fit_transform(X_train)\n",
        "X_test_scaled = scaler.transform(X_test)\n",
        "\n",
        "ModelSelection = int(input(\"1 nearest neighbour, 2 decision tree, 3 random forest: \"))\n",
        "DefaultParameters = int(input(\"1 Default Parameters, 2 Grid Search: \"))\n",
        "\n",
        "if ModelSelection == 1:\n",
        "  if DefaultParameters == 2:\n",
        "    parameters = {\"n_neighbors\":range(1,30)}\n",
        "  else:\n",
        "    parameters = {}\n",
        "  modelType = KNeighborsClassifier()#weights=\"distance\")\n",
        "\n",
        "elif ModelSelection == 2:\n",
        "  if DefaultParameters == 2:\n",
        "    parameters = {\"max_depth\":range(1,30),'max_features': range(1,30)} # Parameters for decision tree\n",
        "  else:\n",
        "    parameters = {}\n",
        "  modelType = DecisionTreeClassifier()\n",
        "\n",
        "elif ModelSelection == 3:\n",
        "  if DefaultParameters == 2:\n",
        "    parameters = {\"n_estimators\": range(1,10),\"max_depth\": range(1,30),\"max_features\": range(1,30)} # Parameters for random forest (estimators 181)\n",
        "  else:\n",
        "    parameters = {}\n",
        "  modelType = RandomForestClassifier(random_state=40,verbose=1)\n",
        "\n",
        "else:\n",
        "  print(\"Invalid input\")\n",
        "\n",
        "GSD = GridSearchCV(modelType,parameters, scoring='f1_micro')\n",
        "\n",
        "GSD.fit(X_train_scaled,y_train) # Fit on scaled data\n",
        "print(\"Accuracy\")\n",
        "print(GSD.best_estimator_.score(X_test_scaled,y_test)) # Score on scaled data\n",
        "print(\"F1 score\")\n",
        "print(f1_score(GSD.predict(X_test_scaled),y_test,average='macro'))\n",
        "print(GSD.best_params_)\n"
      ]
    },
    {
      "cell_type": "markdown",
      "metadata": {
        "id": "XNdOVTsZmPJ_"
      },
      "source": [
        "# Confusion Matrix"
      ]
    },
    {
      "cell_type": "code",
      "execution_count": 4,
      "metadata": {
        "colab": {
          "base_uri": "https://localhost:8080/",
          "height": 524
        },
        "id": "RDgzxfVTmvGA",
        "outputId": "32c0e3a0-d81c-457e-a68b-6abf7dfaed59"
      },
      "outputs": [
        {
          "output_type": "stream",
          "name": "stdout",
          "text": [
            "KNeighborsClassifier()\n"
          ]
        },
        {
          "output_type": "display_data",
          "data": {
            "text/plain": [
              "<Figure size 640x480 with 2 Axes>"
            ],
            "image/png": "[encoded data removed]"
          },
          "metadata": {}
        },
        {
          "output_type": "stream",
          "name": "stdout",
          "text": [
            "\n",
            "0.9441805225653207\n"
          ]
        }
      ],
      "source": [
        "import matplotlib.pyplot as plt\n",
        "from sklearn.metrics import confusion_matrix\n",
        "from sklearn.metrics import ConfusionMatrixDisplay\n",
        "\n",
        "PredictedResults = GSD.predict(X_test_scaled) # Predict on scaled data\n",
        "ActualResults = y_test\n",
        "\n",
        "CMlabels = ['1','2'] # Labels to match the values in y_test\n",
        "DisplayLabels = [\"Non-diabetic\",\"Diabetic\"] # Labels to display on the plot\n",
        "\n",
        "cm = confusion_matrix(ActualResults, PredictedResults)\n",
        "disp = ConfusionMatrixDisplay.from_estimator(GSD, X_test_scaled, y_test, normalize=\"true\", labels=CMlabels, display_labels=DisplayLabels) # Display using scaled data and updated display_labels\n",
        "\n",
        "\n",
        "\n",
        "#plt.title(\"Confusion Matrix\")\n",
        "print(modelType)\n",
        "plt.title(\"Confusion Matrix\")\n",
        "plt.title(\"Random Forest default parameters\")\n",
        "plt.show()\n",
        "\n",
        "print(\"\")\n",
        "print(GSD.best_estimator_.score(X_test_scaled,y_test))\n",
        "\n",
        "# myClassifiers = pd.Series(GSD.best_estimator_.feature_importances_, index=X_train.columns)"
      ]
    },
    {
      "cell_type": "markdown",
      "metadata": {
        "id": "ifoEBm8524dc"
      },
      "source": [
        "# Plotting Feature Importance"
      ]
    },
    {
      "cell_type": "code",
      "execution_count": 5,
      "metadata": {
        "colab": {
          "base_uri": "https://localhost:8080/",
          "height": 211
        },
        "id": "hM1APT0326zs",
        "outputId": "529678f2-453b-4af4-edc0-4cda27cf92ed"
      },
      "outputs": [
        {
          "output_type": "error",
          "ename": "NameError",
          "evalue": "name 'myClassifiers' is not defined",
          "traceback": [
            "\u001b[0;31m---------------------------------------------------------------------------\u001b[0m",
            "\u001b[0;31mNameError\u001b[0m                                 Traceback (most recent call last)",
            "\u001b[0;32m/tmp/ipython-input-1105381206.py\u001b[0m in \u001b[0;36m<cell line: 0>\u001b[0;34m()\u001b[0m\n\u001b[1;32m      1\u001b[0m \u001b[0;32mimport\u001b[0m \u001b[0mmatplotlib\u001b[0m\u001b[0;34m.\u001b[0m\u001b[0mpyplot\u001b[0m \u001b[0;32mas\u001b[0m \u001b[0mplt\u001b[0m\u001b[0;34m\u001b[0m\u001b[0;34m\u001b[0m\u001b[0m\n\u001b[1;32m      2\u001b[0m \u001b[0;34m\u001b[0m\u001b[0m\n\u001b[0;32m----> 3\u001b[0;31m \u001b[0mmyClassifiers\u001b[0m\u001b[0;34m.\u001b[0m\u001b[0mplot\u001b[0m\u001b[0;34m(\u001b[0m\u001b[0mkind\u001b[0m\u001b[0;34m=\u001b[0m\u001b[0;34m\"bar\"\u001b[0m\u001b[0;34m)\u001b[0m\u001b[0;34m\u001b[0m\u001b[0;34m\u001b[0m\u001b[0m\n\u001b[0m\u001b[1;32m      4\u001b[0m \u001b[0mplt\u001b[0m\u001b[0;34m.\u001b[0m\u001b[0mtitle\u001b[0m\u001b[0;34m(\u001b[0m\u001b[0;34m\"Feature Importance\"\u001b[0m\u001b[0;34m)\u001b[0m\u001b[0;34m\u001b[0m\u001b[0;34m\u001b[0m\u001b[0m\n\u001b[1;32m      5\u001b[0m \u001b[0mplt\u001b[0m\u001b[0;34m.\u001b[0m\u001b[0mshow\u001b[0m\u001b[0;34m(\u001b[0m\u001b[0;34m)\u001b[0m\u001b[0;34m\u001b[0m\u001b[0;34m\u001b[0m\u001b[0m\n",
            "\u001b[0;31mNameError\u001b[0m: name 'myClassifiers' is not defined"
          ]
        }
      ],
      "source": [
        "import matplotlib.pyplot as plt\n",
        "\n",
        "myClassifiers.plot(kind=\"bar\")\n",
        "plt.title(\"Feature Importance\")\n",
        "plt.show()\n",
        "\n",
        "DietImportance.plot(kind=\"bar\")\n",
        "plt.title(\"Diet Feature Importance\")\n",
        "plt.show()"
      ]
    },
    {
      "cell_type": "markdown",
      "source": [
        "# Plotting Performance"
      ],
      "metadata": {
        "id": "kCIPz5BCTYWx"
      }
    },
    {
      "cell_type": "code",
      "source": [
        "import matplotlib.pyplot as plt\n",
        "\n",
        "from sklearn.metrics import precision_score\n",
        "from sklearn.metrics import classification_report\n",
        "\n",
        "#print(classification_report(y_test,GSD.predict(X_test_scaled)))\n",
        "\n",
        "\n",
        "ModelPerformanceResults = {'Nearest Neighbour Default Parameters': [0.944083906637899,0.9441805225653207],'Nearest Neighbour Grid Search':[0.9827789455718623,0.9827790973871734],'Decision Tree Default Parameters':[0.9833728278041074,0.9833729216152018],'Decision Tree Grid Search':[0.9804032407366593,0.9804038004750594],'Random Forest Default Parameters':[0.9934675441965211,0.9934679334916865],'Random Forest Grid Search':[0.9994060649794538,0.9994061757719715]}\n",
        "testDF = pd.DataFrame(data=ModelPerformanceResults)\n",
        "\n",
        "\n",
        "width = 0.2\n",
        "x = np.arange(6)\n",
        "\n",
        "for y in range(6):\n",
        "  # print(testDF.iloc[0][y])\n",
        "  # print(testDF.iloc[1][y])\n",
        "\n",
        "  plt.bar(y, testDF.iloc[0][y], width,color='#1f77b4')\n",
        "  plt.bar(y+width, testDF.iloc[1][y], width,color='#ff7f0e')\n",
        "\n",
        "\n",
        "\n",
        "#plt.bar(x, ModelPerformanceResults['With Oversampling'], width)\n",
        "#plt.bar(x+width, ModelPerformanceResults['Random Forest'], width)\n",
        "\n",
        "\n",
        "#plt.xticks(x, ['Nearest Neighbour Default Parameters','Nearest Neighbour Grid Search','Decision Tree Default Parameters','Decision Tree Grid Search','Random Forest Default Parameters','Random Forest Grid Search'],rotation=90)\n",
        "plt.xticks(x, ['Nearest\\nNeighbour\\nDefault\\nParameters','Nearest\\nNeighbour\\nGrid\\nSearch','Decision\\nTree\\nDefault\\nParameters','Decision\\nTree\\nGrid\\nSearch','Random\\nForest\\nDefault\\nParameters','Random\\nForest\\nGrid\\nSearch'])\n",
        "\n",
        "plt.legend(['F1 score','Accuracy'])\n",
        "\n",
        "plt.ylim(0.9,1)\n",
        "\n",
        "plt.title(\"Model Evaluation\")\n",
        "plt.show()\n"
      ],
      "metadata": {
        "colab": {
          "base_uri": "https://localhost:8080/",
          "height": 590
        },
        "id": "PioPE5VDTbvR",
        "outputId": "c588763c-db53-4750-aba5-e4f89fdaa49c"
      },
      "execution_count": 97,
      "outputs": [
        {
          "output_type": "stream",
          "name": "stderr",
          "text": [
            "/tmp/ipython-input-896860665.py:20: FutureWarning: Series.__getitem__ treating keys as positions is deprecated. In a future version, integer keys will always be treated as labels (consistent with DataFrame behavior). To access a value by position, use `ser.iloc[pos]`\n",
            "  plt.bar(y, testDF.iloc[0][y], width,color='#1f77b4')\n",
            "/tmp/ipython-input-896860665.py:21: FutureWarning: Series.__getitem__ treating keys as positions is deprecated. In a future version, integer keys will always be treated as labels (consistent with DataFrame behavior). To access a value by position, use `ser.iloc[pos]`\n",
            "  plt.bar(y+width, testDF.iloc[1][y], width,color='#ff7f0e')\n"
          ]
        },
        {
          "output_type": "display_data",
          "data": {
            "text/plain": [
              "<Figure size 640x480 with 1 Axes>"
            ],
            "image/png": "[encoded data removed]"
          },
          "metadata": {}
        }
      ]
    },
    {
      "cell_type": "markdown",
      "source": [
        "# ROC Curve and AUC"
      ],
      "metadata": {
        "id": "yw3KxbyClwb_"
      }
    },
    {
      "cell_type": "code",
      "source": [
        "from sklearn.metrics import roc_auc_score, accuracy_score, precision_score, recall_score, f1_score, confusion_matrix, roc_curve, auc\n",
        "import matplotlib.pyplot as plt\n",
        "\n",
        "y_pred_proba = GSD.predict_proba(X_test_scaled)[:, 1]\n",
        "y_pred = GSD.predict(X_test_scaled)\n",
        "\n",
        "\n",
        "roc_auc = roc_auc_score(y_test, y_pred_proba)\n",
        "\n",
        "accuracy = accuracy_score(y_test, y_pred)\n",
        "precision = precision_score(y_test, y_pred, pos_label='2')\n",
        "recall = recall_score(y_test, y_pred, pos_label='2')\n",
        "f1 = f1_score(y_test, y_pred, pos_label='2')\n",
        "\n",
        "print(f\"AUC - ROC Score: {roc_auc:.2f}\")\n",
        "print(f\"Accuracy: {accuracy:.2f}\")\n",
        "print(f\"Precision: {precision:.2f}\")\n",
        "print(f\"Recall: {recall:.2f}\")\n",
        "print(f\"F1 Score: {f1:.2f}\")\n",
        "\n",
        "# Plot ROC curve\n",
        "fpr, tpr, thresholds = roc_curve(y_test, y_pred_proba, pos_label='2')\n",
        "roc_auc_plot = auc(fpr, tpr)\n",
        "\n",
        "\n",
        "\n",
        "print(fpr)\n",
        "print(tpr)\n",
        "\n",
        "NonOversampled = {'fpr':[0.0, 0.0, 0.0011919, 0.00238379, 0.00238379, 0.00238379,\n",
        " 0.00357569, 0.00357569, 0.00357569, 0.00715137, 0.00715137, 0.00953516,\n",
        " 0.01549464, 0.02264601, 0.03218117, 0.05005959, 0.08581645, 0.08820024,\n",
        " 0.09177592, 0.16448153, 0.1716329, 0.34684148, 0.34684148, 0.35280095,\n",
        " 1.0], 'tpr':[0., 0.01886792, 0.03773585, 0.0754717, 0.09433962, 0.18867925,\n",
        " 0.26415094, 0.35849057, 0.43396226, 0.47169811, 0.52830189, 0.56603774,\n",
        " 0.58490566, 0.58490566, 0.62264151, 0.66037736, 0.67924528, 0.67924528,\n",
        " 0.67924528, 0.67924528, 0.67924528, 0.81132075, 0.83018868, 0.8490566,\n",
        " 1.]}\n",
        "\n",
        "roc_auc_plot_OverSamp = auc(NonOversampled['fpr'],NonOversampled['tpr'])\n",
        "\n",
        "plt.figure()\n",
        "plt.plot(fpr, tpr, color='darkorange', lw=2, label='Oversampled (area = %0.2f)' % roc_auc_plot)\n",
        "\n",
        "plt.plot(NonOversampled['fpr'], NonOversampled['tpr'], color='blue', lw=2, label='Not oversampled (area = %0.2f)' % roc_auc_plot_OverSamp)\n",
        "\n",
        "plt.plot([0, 1], [0, 1], color='navy', lw=2, linestyle='--', label = 'Random')\n",
        "plt.xlim([0.0, 1.0])\n",
        "plt.ylim([0.0, 1.05])\n",
        "plt.xlabel('False Positive Rate')\n",
        "plt.ylabel('True Positive Rate')\n",
        "plt.title('Receiver Operating Characteristic (ROC) Curve')\n",
        "plt.legend(loc=\"lower right\")\n",
        "plt.show()"
      ],
      "metadata": {
        "id": "5sTgOca0l4Ln"
      },
      "execution_count": null,
      "outputs": []
    }
  ],
  "metadata": {
    "colab": {
      "provenance": [],
      "collapsed_sections": [
        "czISs-oKmAVG",
        "XNdOVTsZmPJ_",
        "ifoEBm8524dc"
      ],
      "mount_file_id": "1bIpNe2UTBJTxZH6eHtBhSBaKm01nxeNW",
      "authorship_tag": "ABX9TyPM+uQRcYZh/IUTJEyO+b8d",
      "include_colab_link": true
    },
    "kernelspec": {
      "display_name": "Python 3",
      "name": "python3"
    },
    "language_info": {
      "name": "python"
    }
  },
  "nbformat": 4,
  "nbformat_minor": 0
}