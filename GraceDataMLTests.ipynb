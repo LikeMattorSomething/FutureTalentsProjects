{
  "nbformat": 4,
  "nbformat_minor": 0,
  "metadata": {
    "colab": {
      "provenance": [],
      "mount_file_id": "1F3lUYSTMUcPgVV1zfY6IL4xCzXHWDZdw",
      "authorship_tag": "ABX9TyPsP+1eWBkZVpLguLqiOiWE",
      "include_colab_link": true
    },
    "kernelspec": {
      "name": "python3",
      "display_name": "Python 3"
    },
    "language_info": {
      "name": "python"
    }
  },
  "cells": [
    {
      "cell_type": "markdown",
      "metadata": {
        "id": "view-in-github",
        "colab_type": "text"
      },
      "source": [
        "<a href=\"https://colab.research.google.com/github/LikeMattorSomething/FutureTalentsProjects/blob/main/GraceDataMLTests.ipynb\" target=\"_parent\"><img src=\"https://colab.research.google.com/assets/colab-badge.svg\" alt=\"Open In Colab\"/></a>"
      ]
    },
    {
      "cell_type": "markdown",
      "source": [
        "# Seperating data into test and train"
      ],
      "metadata": {
        "id": "k3mcA-0I_cWN"
      }
    },
    {
      "cell_type": "code",
      "execution_count": 20,
      "metadata": {
        "colab": {
          "base_uri": "https://localhost:8080/"
        },
        "collapsed": true,
        "id": "J6uYfZ2yiqKy",
        "outputId": "79e074d3-bcad-42d9-8722-9bce43e0bc85"
      },
      "outputs": [
        {
          "output_type": "execute_result",
          "data": {
            "text/plain": [
              "(1553, 50)"
            ]
          },
          "metadata": {},
          "execution_count": 20
        }
      ],
      "source": [
        "import pandas as pd\n",
        "import numpy as np\n",
        "from sklearn.model_selection import train_test_split\n",
        "from sklearn.neighbors import KNeighborsClassifier\n",
        "\n",
        "\n",
        "\n",
        "GraceData = pd.read_csv(\"/content/drive/MyDrive/Future Talents Data/Grace_All years combined 08-07-2025.csv\")\n",
        "\n",
        "GraceData = GraceData[GraceData['Diabetes'] != '#NULL!']#Removed bad data with no diabetes\n",
        "\n",
        "X = GraceData.drop(columns=[\"Diabetes\",\"Country\",\"seriali\"])#Countries causes errors due to it being a string\n",
        "y = GraceData[\"Diabetes\"]\n",
        "\n",
        "X_train, X_test, y_train, y_test = train_test_split(X, y, test_size=0.2, random_state=0)\n",
        "\n",
        "X_train.shape\n",
        "X_test.shape"
      ]
    },
    {
      "cell_type": "markdown",
      "source": [
        "# Finding the most accurate amount of neightbours with Nearest Neighbour."
      ],
      "metadata": {
        "id": "vPta-92W_Nz0"
      }
    },
    {
      "cell_type": "code",
      "source": [
        "score = 0\n",
        "TopKNeighborsClassifierAmount = \"\"\n",
        "\n",
        "for KNeighborsClassifierAmount in range(1,30):\n",
        "\n",
        "\n",
        "  knnc = KNeighborsClassifier(int(KNeighborsClassifierAmount),weights=\"distance\")\n",
        "  knnc.fit(X_train, y_train)\n",
        "\n",
        "\n",
        "\n",
        "  if knnc.score(X_test, y_test) > score:\n",
        "    score = knnc.score(X_test, y_test)\n",
        "    TopKNeighborsClassifierAmount = KNeighborsClassifierAmount\n",
        "\n",
        "\n",
        "  print(KNeighborsClassifierAmount)\n",
        "  print(knnc.score(X_test, y_test))\n",
        "\n",
        "print(\"Top Scores\")\n",
        "print(TopKNeighborsClassifierAmount)\n",
        "print(score)"
      ],
      "metadata": {
        "colab": {
          "base_uri": "https://localhost:8080/"
        },
        "collapsed": true,
        "id": "twLcDFbSy5bL",
        "outputId": "ec702f53-af55-4a25-bce3-2bb72bee374f"
      },
      "execution_count": 2,
      "outputs": [
        {
          "output_type": "stream",
          "name": "stdout",
          "text": [
            "1\n",
            "0.652929813264649\n",
            "2\n",
            "0.652929813264649\n",
            "3\n",
            "0.686413393432067\n",
            "4\n",
            "0.6922086284610431\n",
            "5\n",
            "0.708950418544752\n",
            "6\n",
            "0.7160334835801674\n",
            "7\n",
            "0.7198969735994849\n",
            "8\n",
            "0.7186091435930457\n",
            "9\n",
            "0.7134578235672892\n",
            "10\n",
            "0.7218287186091435\n",
            "11\n",
            "0.7147456535737282\n",
            "12\n",
            "0.7295556986477785\n",
            "13\n",
            "0.7141017385705087\n",
            "14\n",
            "0.7218287186091435\n",
            "15\n",
            "0.7134578235672892\n",
            "16\n",
            "0.7160334835801674\n",
            "17\n",
            "0.7179652285898261\n",
            "18\n",
            "0.7186091435930457\n",
            "19\n",
            "0.7141017385705087\n",
            "20\n",
            "0.7192530585962653\n",
            "21\n",
            "0.7108821635544108\n",
            "22\n",
            "0.7141017385705087\n",
            "23\n",
            "0.7115260785576304\n",
            "24\n",
            "0.7134578235672892\n",
            "25\n",
            "0.7141017385705087\n",
            "26\n",
            "0.7179652285898261\n",
            "27\n",
            "0.716677398583387\n",
            "28\n",
            "0.7128139085640696\n",
            "29\n",
            "0.7115260785576304\n",
            "Top Scores\n",
            "12\n",
            "0.7295556986477785\n"
          ]
        }
      ]
    },
    {
      "cell_type": "markdown",
      "source": [
        "# Finding the most accurate amount of neightbours with Decision Tree."
      ],
      "metadata": {
        "id": "4aV6BbeeJ_tn"
      }
    },
    {
      "cell_type": "code",
      "source": [
        "from sklearn import tree\n",
        "from sklearn.metrics import confusion_matrix\n",
        "from sklearn.metrics import ConfusionMatrixDisplay\n",
        "\n",
        "score = 0\n",
        "TopTreeDepth = \"\"\n",
        "\n",
        "for TreeDepth in range(0,30):\n",
        "\n",
        "  if TreeDepth == 0:\n",
        "    TreeDepth = None\n",
        "\n",
        "  desisionTreeClassifier = tree.DecisionTreeClassifier(max_depth=TreeDepth)\n",
        "  desisionTreeClassifier = desisionTreeClassifier.fit(X_train, y_train)\n",
        "\n",
        "  desisionTreeClassifier.fit(X_train, y_train)\n",
        "\n",
        "  #tree.plot_tree(desisionTreeClassifier)\n",
        "  print(TreeDepth)\n",
        "  print(desisionTreeClassifier.score(X_test, y_test))\n",
        "\n",
        "  if desisionTreeClassifier.score(X_test, y_test) > score:\n",
        "    score = desisionTreeClassifier.score(X_test, y_test)\n",
        "    TopTreeDepth = TreeDepth\n",
        "\n",
        "print(\"Top Scores\")\n",
        "print(TopTreeDepth)\n",
        "print(score)\n",
        "\n",
        "desisionTreeClassifier = tree.DecisionTreeClassifier(max_depth=TopTreeDepth)\n",
        "desisionTreeClassifier = desisionTreeClassifier.fit(X_train, y_train)\n",
        "\n",
        "\n",
        "PredictedResults = desisionTreeClassifier.predict(X_test)\n",
        "ActualResults = y_test\n",
        "\n",
        "confusion_matrix(ActualResults, PredictedResults)\n",
        "ConfusionMatrixDisplay.from_estimator(desisionTreeClassifier, X_test, y_test,normalize=\"true\")"
      ],
      "metadata": {
        "colab": {
          "base_uri": "https://localhost:8080/",
          "height": 1000
        },
        "collapsed": true,
        "id": "H-CEGVLL_Vn0",
        "outputId": "2148e136-f75b-46d5-f213-710f78cab623"
      },
      "execution_count": 35,
      "outputs": [
        {
          "output_type": "stream",
          "name": "stdout",
          "text": [
            "None\n",
            "0.8802318094011591\n",
            "1\n",
            "0.8789439793947199\n",
            "2\n",
            "0.9143593045717965\n",
            "3\n",
            "0.9130714745653574\n",
            "4\n",
            "0.9124275595621378\n",
            "5\n",
            "0.9111397295556987\n",
            "6\n",
            "0.9008370895041854\n",
            "7\n",
            "0.8873148744365744\n",
            "8\n",
            "0.8943979394719896\n",
            "9\n",
            "0.8879587894397939\n",
            "10\n",
            "0.8898905344494527\n",
            "11\n",
            "0.8879587894397939\n",
            "12\n",
            "0.8828074694140373\n",
            "13\n",
            "0.8873148744365744\n",
            "14\n",
            "0.8705730843528654\n",
            "15\n",
            "0.8789439793947199\n",
            "16\n",
            "0.8725048293625242\n",
            "17\n",
            "0.875724404378622\n",
            "18\n",
            "0.8725048293625242\n",
            "19\n",
            "0.8795878943979395\n",
            "20\n",
            "0.8795878943979395\n",
            "21\n",
            "0.8705730843528654\n",
            "22\n",
            "0.8725048293625242\n",
            "23\n",
            "0.8737926593689633\n",
            "24\n",
            "0.8776561493882807\n",
            "25\n",
            "0.8737926593689633\n",
            "26\n",
            "0.8763683193818416\n",
            "27\n",
            "0.8718609143593046\n",
            "28\n",
            "0.8808757244043787\n",
            "29\n",
            "0.8705730843528654\n",
            "Top Scores\n",
            "2\n",
            "0.9143593045717965\n"
          ]
        },
        {
          "output_type": "execute_result",
          "data": {
            "text/plain": [
              "<sklearn.metrics._plot.confusion_matrix.ConfusionMatrixDisplay at 0x7eba0b10b1d0>"
            ]
          },
          "metadata": {},
          "execution_count": 35
        },
        {
          "output_type": "display_data",
          "data": {
            "text/plain": [
              "<Figure size 640x480 with 2 Axes>"
            ],
            "image/png": "[encoded data removed]"
          },
          "metadata": {}
        }
      ]
    },
    {
      "cell_type": "markdown",
      "source": [
        "# Evaluating accuracy"
      ],
      "metadata": {
        "id": "YzXDsrWs_jim"
      }
    },
    {
      "cell_type": "code",
      "source": [
        "from sklearn.metrics import confusion_matrix\n",
        "from sklearn.metrics import ConfusionMatrixDisplay\n",
        "\n",
        "knnc = KNeighborsClassifier(int(12),weights=\"distance\")\n",
        "knnc.fit(X_train, y_train)\n",
        "\n",
        "PredictedResults = desisionTreeClassifier.predict(X_test)\n",
        "ActualResults = y_test\n",
        "\n",
        "confusion_matrix(ActualResults, PredictedResults)\n",
        "#ConfusionMatrixDisplay.from_estimator(knnc, X_test, y_test)\n",
        "ConfusionMatrixDisplay.from_estimator(desisionTreeClassifier, X_test, y_test,normalize=\"true\")"
      ],
      "metadata": {
        "colab": {
          "base_uri": "https://localhost:8080/",
          "height": 467
        },
        "id": "geDMAMH0Hupn",
        "outputId": "5adb0f8a-fac0-409a-92cd-7f0097ecbd5a"
      },
      "execution_count": 34,
      "outputs": [
        {
          "output_type": "execute_result",
          "data": {
            "text/plain": [
              "<sklearn.metrics._plot.confusion_matrix.ConfusionMatrixDisplay at 0x7eba0051d520>"
            ]
          },
          "metadata": {},
          "execution_count": 34
        },
        {
          "output_type": "display_data",
          "data": {
            "text/plain": [
              "<Figure size 640x480 with 2 Axes>"
            ],
            "image/png": "[encoded data removed]"
          },
          "metadata": {}
        }
      ]
    }
  ]
}