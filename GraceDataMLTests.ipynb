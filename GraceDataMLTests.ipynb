{
  "nbformat": 4,
  "nbformat_minor": 0,
  "metadata": {
    "colab": {
      "provenance": [],
      "mount_file_id": "1F3lUYSTMUcPgVV1zfY6IL4xCzXHWDZdw",
      "authorship_tag": "ABX9TyPReqUlJzZVOEGdz0pYuhL0",
      "include_colab_link": true
    },
    "kernelspec": {
      "name": "python3",
      "display_name": "Python 3"
    },
    "language_info": {
      "name": "python"
    }
  },
  "cells": [
    {
      "cell_type": "markdown",
      "metadata": {
        "id": "view-in-github",
        "colab_type": "text"
      },
      "source": [
        "<a href=\"https://colab.research.google.com/github/LikeMattorSomething/FutureTalentsProjects/blob/main/GraceDataMLTests.ipynb\" target=\"_parent\"><img src=\"https://colab.research.google.com/assets/colab-badge.svg\" alt=\"Open In Colab\"/></a>"
      ]
    },
    {
      "cell_type": "code",
      "execution_count": 47,
      "metadata": {
        "colab": {
          "base_uri": "https://localhost:8080/"
        },
        "collapsed": true,
        "id": "J6uYfZ2yiqKy",
        "outputId": "de023123-b26c-4b1f-d73b-36012f4ac2d1"
      },
      "outputs": [
        {
          "output_type": "execute_result",
          "data": {
            "text/plain": [
              "(1553, 50)"
            ]
          },
          "metadata": {},
          "execution_count": 47
        }
      ],
      "source": [
        "import pandas as pd\n",
        "import numpy as np\n",
        "from sklearn.model_selection import train_test_split\n",
        "from sklearn.neighbors import KNeighborsClassifier\n",
        "\n",
        "score = 0\n",
        "TopKNeighborsClassifierAmount = \"\"\n",
        "\n",
        "GraceData = pd.read_csv(\"/content/drive/MyDrive/Future Talents Data/Grace_All years combined 08-07-2025.csv\")\n",
        "\n",
        "# Remove rows where 'Diabetes' is '#NULL!'\n",
        "GraceData = GraceData[GraceData['Diabetes'] != '#NULL!']\n",
        "\n",
        "X = GraceData.drop(columns=[\"Diabetes\",\"Country\",\"seriali\"])#Countries causes errors due to it being a string\n",
        "y = GraceData[\"Diabetes\"]\n",
        "\n",
        "X_train, X_test, y_train, y_test = train_test_split(X, y, test_size=0.2, random_state=0)\n",
        "\n",
        "X_train.shape\n",
        "X_test.shape"
      ]
    },
    {
      "cell_type": "code",
      "source": [
        "\n",
        "\n",
        "for KNeighborsClassifierAmount in range(1,30):\n",
        "\n",
        "\n",
        "  knnc = KNeighborsClassifier(int(KNeighborsClassifierAmount),weights=\"distance\")\n",
        "  knnc.fit(X_train, y_train)\n",
        "\n",
        "\n",
        "\n",
        "  if knnc.score(X_test, y_test) > score:\n",
        "    score = knnc.score(X_test, y_test)\n",
        "    TopKNeighborsClassifierAmount = KNeighborsClassifierAmount\n",
        "\n",
        "\n",
        "  print(KNeighborsClassifierAmount)\n",
        "  print(knnc.score(X_test, y_test))\n",
        "\n",
        "print(\"Top Scores\")\n",
        "print(TopKNeighborsClassifierAmount)#7\n",
        "print(score)#0.5931959750838525"
      ],
      "metadata": {
        "colab": {
          "base_uri": "https://localhost:8080/"
        },
        "collapsed": true,
        "id": "twLcDFbSy5bL",
        "outputId": "871b825a-f262-4d4a-c648-702ce4305dd8"
      },
      "execution_count": 33,
      "outputs": [
        {
          "output_type": "stream",
          "name": "stdout",
          "text": [
            "1\n",
            "0.6532715095311695\n",
            "2\n",
            "0.6532715095311695\n",
            "3\n",
            "0.6846986089644513\n",
            "4\n",
            "0.6903657908294694\n",
            "5\n",
            "0.7089129314786192\n",
            "6\n",
            "0.7135497166409067\n",
            "7\n",
            "0.7109737248840804\n",
            "8\n",
            "0.7156105100463679\n",
            "9\n",
            "0.7104585265327151\n",
            "10\n",
            "0.7253992787223081\n",
            "11\n",
            "0.7217928902627512\n",
            "12\n",
            "0.7264296754250387\n",
            "13\n",
            "0.7114889232354457\n",
            "14\n",
            "0.7171561051004637\n",
            "15\n",
            "0.7135497166409067\n",
            "16\n",
            "0.717671303451829\n",
            "17\n",
            "0.7109737248840804\n",
            "18\n",
            "0.7166409067490984\n",
            "19\n",
            "0.7120041215868109\n",
            "20\n",
            "0.7166409067490984\n",
            "21\n",
            "0.7150953116950026\n",
            "22\n",
            "0.7109737248840804\n",
            "23\n",
            "0.7130345182895415\n",
            "24\n",
            "0.7135497166409067\n",
            "25\n",
            "0.7125193199381762\n",
            "26\n",
            "0.7130345182895415\n",
            "27\n",
            "0.7130345182895415\n",
            "28\n",
            "0.7109737248840804\n",
            "29\n",
            "0.7104585265327151\n",
            "Top Scores\n",
            "12\n",
            "0.7264296754250387\n"
          ]
        }
      ]
    },
    {
      "cell_type": "code",
      "source": [
        "from sklearn.metrics import confusion_matrix\n",
        "from sklearn.metrics import ConfusionMatrixDisplay\n",
        "\n",
        "knnc = KNeighborsClassifier(int(12),weights=\"distance\")\n",
        "knnc.fit(X_train, y_train)\n",
        "\n",
        "PredictedResults = knnc.predict(X_test)\n",
        "ActualResults = y_test\n",
        "\n",
        "confusion_matrix(ActualResults, PredictedResults)\n",
        "ConfusionMatrixDisplay.from_estimator(knnc, X_test, y_test,normalize=\"true\")"
      ],
      "metadata": {
        "colab": {
          "base_uri": "https://localhost:8080/",
          "height": 467
        },
        "id": "geDMAMH0Hupn",
        "outputId": "0973c73e-bab7-412d-968d-924b28fe7129"
      },
      "execution_count": 48,
      "outputs": [
        {
          "output_type": "execute_result",
          "data": {
            "text/plain": [
              "<sklearn.metrics._plot.confusion_matrix.ConfusionMatrixDisplay at 0x7b941373e810>"
            ]
          },
          "metadata": {},
          "execution_count": 48
        },
        {
          "output_type": "display_data",
          "data": {
            "text/plain": [
              "<Figure size 640x480 with 2 Axes>"
            ],
            "image/png": "[encoded data removed]"
          },
          "metadata": {}
        }
      ]
    }
  ]
}