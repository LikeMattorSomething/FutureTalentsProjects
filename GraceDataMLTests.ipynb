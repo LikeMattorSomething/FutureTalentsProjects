{
  "nbformat": 4,
  "nbformat_minor": 0,
  "metadata": {
    "colab": {
      "provenance": [],
      "mount_file_id": "1F3lUYSTMUcPgVV1zfY6IL4xCzXHWDZdw",
      "authorship_tag": "ABX9TyN7n1R+MrdI8Quw4VHcIKRY",
      "include_colab_link": true
    },
    "kernelspec": {
      "name": "python3",
      "display_name": "Python 3"
    },
    "language_info": {
      "name": "python"
    }
  },
  "cells": [
    {
      "cell_type": "markdown",
      "metadata": {
        "id": "view-in-github",
        "colab_type": "text"
      },
      "source": [
        "<a href=\"https://colab.research.google.com/github/LikeMattorSomething/FutureTalentsProjects/blob/main/GraceDataMLTests.ipynb\" target=\"_parent\"><img src=\"https://colab.research.google.com/assets/colab-badge.svg\" alt=\"Open In Colab\"/></a>"
      ]
    },
    {
      "cell_type": "code",
      "execution_count": 6,
      "metadata": {
        "collapsed": true,
        "id": "J6uYfZ2yiqKy"
      },
      "outputs": [],
      "source": [
        "import pandas as pd\n",
        "import numpy as np\n",
        "from sklearn.model_selection import train_test_split\n",
        "from sklearn.neighbors import KNeighborsClassifier\n",
        "\n",
        "score = 0\n",
        "TopKNeighborsClassifierAmount = \"\"\n",
        "\n",
        "GraceData = GraceData = pd.read_csv(\"/content/drive/MyDrive/Future Talents Data/Grace_All years combined 08-07-2025.csv\")\n"
      ]
    },
    {
      "cell_type": "code",
      "source": [
        "X = GraceData.drop(columns=[\"Diabetes\",\"Country\"])#Countries causes errors due to it being a string\n",
        "y = GraceData[\"Diabetes\"]\n",
        "\n",
        "X_train, X_test, y_train, y_test = train_test_split(X, y, test_size=0.25, random_state=0)\n",
        "\n",
        "X_train.shape\n",
        "X_test.shape\n",
        "\n",
        "for KNeighborsClassifierAmount in range(1,30):\n",
        "\n",
        "\n",
        "  knnc = KNeighborsClassifier(int(KNeighborsClassifierAmount))\n",
        "  knnc.fit(X_train, y_train)\n",
        "\n",
        "\n",
        "  if knnc.score(X_test, y_test) > score:\n",
        "    score = knnc.score(X_test, y_test)\n",
        "    TopKNeighborsClassifierAmount = KNeighborsClassifierAmount\n",
        "\n",
        "\n",
        "  print(KNeighborsClassifierAmount)\n",
        "  print(knnc.score(X_test, y_test))\n",
        "\n",
        "print(\"Top Scores\")\n",
        "print(TopKNeighborsClassifierAmount)#7\n",
        "print(score)#0.5931959750838525"
      ],
      "metadata": {
        "colab": {
          "base_uri": "https://localhost:8080/"
        },
        "id": "twLcDFbSy5bL",
        "outputId": "69a3a3bb-f013-422d-8a11-4a9ece4db031"
      },
      "execution_count": 7,
      "outputs": [
        {
          "output_type": "stream",
          "name": "stdout",
          "text": [
            "1\n",
            "0.5567800670819358\n",
            "2\n",
            "0.5572592237661715\n",
            "3\n",
            "0.5898418782942022\n",
            "4\n",
            "0.5687589841878294\n",
            "5\n",
            "0.580737901293723\n",
            "6\n",
            "0.5716339242932439\n",
            "7\n",
            "0.5931959750838525\n",
            "8\n",
            "0.5816962146621946\n",
            "9\n",
            "0.5759463344513656\n",
            "10\n",
            "0.5716339242932439\n",
            "11\n",
            "0.5821753713464303\n",
            "12\n",
            "0.580737901293723\n",
            "13\n",
            "0.592237661715381\n",
            "14\n",
            "0.5874460948730235\n",
            "15\n",
            "0.5917585050311451\n",
            "16\n",
            "0.5831336847149018\n",
            "17\n",
            "0.582654528030666\n",
            "18\n",
            "0.5778629611883086\n",
            "19\n",
            "0.5725922376617154\n",
            "20\n",
            "0.5745088643986583\n",
            "21\n",
            "0.5663632007666507\n",
            "22\n",
            "0.5730713943459511\n",
            "23\n",
            "0.5673215141351222\n",
            "24\n",
            "0.5802587446094873\n",
            "25\n",
            "0.5692381408720651\n",
            "26\n",
            "0.5749880210828942\n",
            "27\n",
            "0.5706756109247724\n",
            "28\n",
            "0.5682798275035936\n",
            "29\n",
            "0.5725922376617154\n",
            "Top Scores\n",
            "7\n",
            "0.5931959750838525\n"
          ]
        }
      ]
    }
  ]
}